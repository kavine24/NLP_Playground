{
 "cells": [
  {
   "cell_type": "code",
   "execution_count": 9,
   "metadata": {},
   "outputs": [],
   "source": [
    "import ollama\n",
    "import pydantic"
   ]
  },
  {
   "cell_type": "code",
   "execution_count": 10,
   "metadata": {},
   "outputs": [
    {
     "name": "stdout",
     "output_type": "stream",
     "text": [
      "You are an expert assistant in JSON that can create easily parseable JSON objects.\n",
      "Give me a JSON object containing the names and urls of five different wikipedia pages on the sport fencing. \n",
      "\n",
      "\n",
      "The schema of the json should like this: \n",
      "\n",
      "{\n",
      "    \"articles\": [\n",
      "        {\n",
      "            \"name\": \"article_name\",\n",
      "            \"url\": \"actual_url\"\n",
      "        },\n",
      "        ...\n",
      "    ]\n",
      "}\n",
      "\n"
     ]
    }
   ],
   "source": [
    "setup = 'You are an expert assistant in JSON that can create easily parseable JSON objects'\n",
    "\n",
    "main_query = 'Give me a JSON object containing the names and urls of five different wikipedia pages on the sport fencing'\n",
    "\n",
    "format_query = \\\n",
    "\"\"\"\n",
    "The schema of the json should like this: \n",
    "\n",
    "{\n",
    "    \"articles\": [\n",
    "        {\n",
    "            \"name\": \"article_name\",\n",
    "            \"url\": \"actual_url\"\n",
    "        },\n",
    "        ...\n",
    "    ]\n",
    "}\n",
    "\"\"\"\n",
    "\n",
    "joined_query = f'{setup}.\\n{main_query}. \\n\\n{format_query}'\n",
    "\n",
    "print(joined_query)"
   ]
  },
  {
   "cell_type": "code",
   "execution_count": 11,
   "metadata": {},
   "outputs": [],
   "source": [
    "response = ollama.chat(\n",
    "    model='codellama',\n",
    "    messages=[{'role': 'assistant', 'content': joined_query}],\n",
    "    format='json'\n",
    ")"
   ]
  },
  {
   "cell_type": "code",
   "execution_count": 12,
   "metadata": {},
   "outputs": [
    {
     "name": "stdout",
     "output_type": "stream",
     "text": [
      "{\"articles\":[{\"name\":\"Fencing\",\"url\":\"https://en.wikipedia.org/wiki/Fencing\"},{\"name\":\"Fencing at the 2016 Summer Olympics\",\"url\":\"https://en.wikipedia.org/wiki/Fencing_at_the_2016_Summer_Olympics\"},{\"name\":\"Fencing history\",\"url\":\"https://en.wikipedia.org/wiki/Fencing_history\"},{\"name\":\"Fencing equipment\",\"url\":\"https://en.wikipedia.org/wiki/Fencing_equipment\"},{\"name\":\"Fencing in the Olympics\",\"url\":\"https://en.wikipedia.org/wiki/Fencing_in_the_Olympics\"}]}\n"
     ]
    }
   ],
   "source": [
    "print(response['message']['content'])"
   ]
  },
  {
   "cell_type": "code",
   "execution_count": null,
   "metadata": {},
   "outputs": [],
   "source": []
  }
 ],
 "metadata": {
  "kernelspec": {
   "display_name": "rag_playgrounds",
   "language": "python",
   "name": "python3"
  },
  "language_info": {
   "codemirror_mode": {
    "name": "ipython",
    "version": 3
   },
   "file_extension": ".py",
   "mimetype": "text/x-python",
   "name": "python",
   "nbconvert_exporter": "python",
   "pygments_lexer": "ipython3",
   "version": "3.12.5"
  }
 },
 "nbformat": 4,
 "nbformat_minor": 2
}
